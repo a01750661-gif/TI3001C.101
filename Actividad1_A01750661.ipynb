{
  "nbformat": 4,
  "nbformat_minor": 0,
  "metadata": {
    "colab": {
      "provenance": [],
      "authorship_tag": "ABX9TyONdkrSFzWHmDXycESXokxK",
      "include_colab_link": true
    },
    "kernelspec": {
      "name": "python3",
      "display_name": "Python 3"
    },
    "language_info": {
      "name": "python"
    }
  },
  "cells": [
    {
      "cell_type": "markdown",
      "metadata": {
        "id": "view-in-github",
        "colab_type": "text"
      },
      "source": [
        "<a href=\"https://colab.research.google.com/github/a01750661-gif/AnaliticaDatos/blob/Actividades/Actividad1_A01750661.ipynb\" target=\"_parent\"><img src=\"https://colab.research.google.com/assets/colab-badge.svg\" alt=\"Open In Colab\"/></a>"
      ]
    },
    {
      "cell_type": "markdown",
      "source": [
        "### ACTIVIDAD 1"
      ],
      "metadata": {
        "id": "0w6RcEleyYTd"
      }
    },
    {
      "cell_type": "code",
      "execution_count": 1,
      "metadata": {
        "colab": {
          "base_uri": "https://localhost:8080/"
        },
        "id": "vzBjR0HoyM8s",
        "outputId": "f4f7f306-58a5-4e4e-cc72-640614e432df"
      },
      "outputs": [
        {
          "output_type": "stream",
          "name": "stdout",
          "text": [
            "Ingresa la calificación del Examen 1 (40%): 100\n",
            "Ingresa la calificación del Examen 2 (20%): 98\n",
            "Ingresa la calificación del Examen 3 (10%): 89\n",
            "Ingresa la calificación del Examen 4 (30%): 95\n",
            "\n",
            "\n",
            "La calificación final es: 97.00\n"
          ]
        }
      ],
      "source": [
        "# Ejercicio 1\n",
        "\n",
        "# Ingresamos las calificaciones de cada examen, ponemos float para puntos decimales en las mismas\n",
        "ex1 = float(input(\"Ingresa la calificación del Examen 1 (40%): \"))\n",
        "ex2 = float(input(\"Ingresa la calificación del Examen 2 (20%): \"))\n",
        "ex3 = float(input(\"Ingresa la calificación del Examen 3 (10%): \"))\n",
        "ex4 = float(input(\"Ingresa la calificación del Examen 4 (30%): \"))\n",
        "\n",
        "# Se calculan las ponderaciones por examen y se suman para obtener la calificación final\n",
        "califinal = (ex1 * 0.40) + (ex2 * 0.20) + (ex3 * 0.10) + (ex4 * 0.30)\n",
        "print(\"\\n\")\n",
        "# Imprime el resultado\n",
        "print(f\"La calificación final es: {califinal:.2f}\")"
      ]
    },
    {
      "cell_type": "code",
      "source": [
        "# Ejercicio 2\n",
        "\n",
        "#Definimos las operaciones a realizar\n",
        "op1 = 100/50/2\n",
        "op2 = 5+2*3**2\n",
        "op3 = 10//3\n",
        "op4 = 25%7\n",
        "op5 = 5**2+4*5\n",
        "op6 = 49**0.5\n",
        "op7 = 5*3**(15%13)-10+12/4-(5-8//3)\n",
        "op8 = (5-1)*((7+1)/(3-1))\n",
        "\n",
        "#Imprimimos los resultados de cada una de las operaciones con espacios\n",
        "print(\"El resultado de la operación 1 es: \",op1) #Imprimimos el resultado\n",
        "print(\"\\n\")\n",
        "print(\"El resultado de la operación 2 es: \",op2) #Imprimimos el resultado\n",
        "print(\"\\n\")\n",
        "print(\"El resultado de la operación 3 es: \",op3) #Imprimimos el resultado\n",
        "print(\"\\n\")\n",
        "print(\"El resultado de la operación 4 es: \",op4) #Imprimimos el resultado\n",
        "print(\"\\n\")\n",
        "print(\"El resultado de la operación 5 es: \",op5) #Imprimimos el resultado\n",
        "print(\"\\n\")\n",
        "print(\"El resultado de la operación 6 es: \",op6) #Imprimimos el resultado\n",
        "print(\"\\n\")\n",
        "print(\"El resultado de la operación 7 es: \",op7) #Imprimimos el resultado\n",
        "print(\"\\n\")\n",
        "print(\"El resultado de la operación 8 es: \",op8) #Imprimimos el resultado\n",
        "print(\"\\n\")"
      ],
      "metadata": {
        "colab": {
          "base_uri": "https://localhost:8080/"
        },
        "id": "tNLOnqdwyisG",
        "outputId": "3b5f0bbe-4f65-4dca-a2c4-213316e2377a"
      },
      "execution_count": 6,
      "outputs": [
        {
          "output_type": "stream",
          "name": "stdout",
          "text": [
            "El resultado de la operación 1 es:  1.0\n",
            "\n",
            "\n",
            "El resultado de la operación 2 es:  23\n",
            "\n",
            "\n",
            "El resultado de la operación 3 es:  3\n",
            "\n",
            "\n",
            "El resultado de la operación 4 es:  4.0\n",
            "\n",
            "\n",
            "El resultado de la operación 5 es:  45\n",
            "\n",
            "\n",
            "El resultado de la operación 6 es:  7.0\n",
            "\n",
            "\n",
            "El resultado de la operación 7 es:  35.0\n",
            "\n",
            "\n",
            "El resultado de la operación 8 es:  16.0\n",
            "\n",
            "\n"
          ]
        }
      ]
    },
    {
      "cell_type": "code",
      "source": [
        "# Ejercicio 3\n",
        "#Datos importantes: Costo por metro cuadrado es de 3450\n",
        "\n",
        "#Definimos las variables\n",
        "a = 35 #Base inferior\n",
        "b = 17 #Altura\n",
        "c = 3 #Restante 1 base superior\n",
        "d = 10 #Restante 2 base superior\n",
        "\n",
        "#Definimos las funciones que usaremos para calcular el area del terreno trapezoidal\n",
        "a2 = a-(d+c) #Funcion para calcular la base superior del trapecio\n",
        "print(\"La base superior tiene el valor de: \", a2)\n",
        "print(\"\\n\")\n",
        "A = ((a+a2)*b)/2 #Ocupamos la fórmula para calcular el área del trapecio sumando ambas bases, multiplicando por altura y dividiendo entre dos\n",
        "print(\"El área total del terreno es de: \",A,\"metros cuadrados\")\n",
        "print(\"\\n\")\n",
        "\n",
        "#Definimos la función para calcular el costo total del terreno\n",
        "m = 3450 #Costo por metro cuadrado\n",
        "print(f\"El precio por metro cuadrado es de: ${m:,}\")\n",
        "print(\"\\n\")\n",
        "costo_total = A*m #Multiplicamos el área total del terrno por el precio por metro cuadrado\n",
        "print(f\"El costo total del terreno es de: ${costo_total:,}\")"
      ],
      "metadata": {
        "colab": {
          "base_uri": "https://localhost:8080/"
        },
        "id": "SY-Kr2bQymnr",
        "outputId": "6bf87683-a499-45e0-b14e-747fb9b9a2ba"
      },
      "execution_count": 4,
      "outputs": [
        {
          "output_type": "stream",
          "name": "stdout",
          "text": [
            "La base superior tiene el valor de:  22\n",
            "\n",
            "\n",
            "El área total del terreno es de:  484.5 metros cuadrados\n",
            "\n",
            "\n",
            "El precio por metro cuadrado es de: $3,450\n",
            "\n",
            "\n",
            "El costo total del terreno es de: $1,671,525.0\n"
          ]
        }
      ]
    }
  ]
}