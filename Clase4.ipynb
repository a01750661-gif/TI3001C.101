{
  "nbformat": 4,
  "nbformat_minor": 0,
  "metadata": {
    "colab": {
      "provenance": [],
      "authorship_tag": "ABX9TyMa4LjOsAvYVaDW04FFA/d7",
      "include_colab_link": true
    },
    "kernelspec": {
      "name": "python3",
      "display_name": "Python 3"
    },
    "language_info": {
      "name": "python"
    }
  },
  "cells": [
    {
      "cell_type": "markdown",
      "metadata": {
        "id": "view-in-github",
        "colab_type": "text"
      },
      "source": [
        "<a href=\"https://colab.research.google.com/github/a01750661-gif/TI3001C.101/blob/Actividades/Clase4.ipynb\" target=\"_parent\"><img src=\"https://colab.research.google.com/assets/colab-badge.svg\" alt=\"Open In Colab\"/></a>"
      ]
    },
    {
      "cell_type": "markdown",
      "source": [
        "**Introducción a Pandas**"
      ],
      "metadata": {
        "id": "YkEb9Id8rdVp"
      }
    },
    {
      "cell_type": "markdown",
      "source": [
        "### Creación de una serie:"
      ],
      "metadata": {
        "id": "MfEB7fUgthTL"
      }
    },
    {
      "cell_type": "code",
      "execution_count": 1,
      "metadata": {
        "colab": {
          "base_uri": "https://localhost:8080/"
        },
        "id": "P6ocWKkRqd0y",
        "outputId": "11f8662c-a3d5-4777-886b-d274d21965ca"
      },
      "outputs": [
        {
          "output_type": "stream",
          "name": "stdout",
          "text": [
            "0        rojo\n",
            "1    amarillo\n",
            "2        azul\n",
            "3       verde\n",
            "4      morado\n",
            "dtype: object\n"
          ]
        }
      ],
      "source": [
        "import pandas as pd\n",
        "\n",
        "colores = pd.Series([\"rojo\",\"amarillo\",\"azul\",\"verde\",\"morado\"])\n",
        "print(colores)"
      ]
    },
    {
      "cell_type": "markdown",
      "source": [
        "### Estructura de DataFrame"
      ],
      "metadata": {
        "id": "3cCgiGqYtlKn"
      }
    },
    {
      "cell_type": "code",
      "source": [
        "materias = pd.Series({\"Matemáticas\":60,\"Física\":100,\"Química\":78})\n",
        "print(materias)"
      ],
      "metadata": {
        "colab": {
          "base_uri": "https://localhost:8080/"
        },
        "id": "j8FrvwXDtqMU",
        "outputId": "1c852b22-8069-487d-a8d7-4eea7899f2ed"
      },
      "execution_count": 2,
      "outputs": [
        {
          "output_type": "stream",
          "name": "stdout",
          "text": [
            "Matemáticas     60\n",
            "Física         100\n",
            "Química         78\n",
            "dtype: int64\n"
          ]
        }
      ]
    },
    {
      "cell_type": "code",
      "source": [
        "numeros = pd.Series([1,2,3,4,5,6,7,8,9])\n",
        "print(numeros)\n",
        "numeros.size\n",
        "numeros.index\n",
        "numeros.dtype"
      ],
      "metadata": {
        "colab": {
          "base_uri": "https://localhost:8080/"
        },
        "id": "4bzyuMg-vBTM",
        "outputId": "7993aebe-9175-4dc4-8cfe-755a90454fa8"
      },
      "execution_count": 5,
      "outputs": [
        {
          "output_type": "stream",
          "name": "stdout",
          "text": [
            "0    1\n",
            "1    2\n",
            "2    3\n",
            "3    4\n",
            "4    5\n",
            "5    6\n",
            "6    7\n",
            "7    8\n",
            "8    9\n",
            "dtype: int64\n"
          ]
        },
        {
          "output_type": "execute_result",
          "data": {
            "text/plain": [
              "RangeIndex(start=0, stop=9, step=1)"
            ]
          },
          "metadata": {},
          "execution_count": 5
        }
      ]
    },
    {
      "cell_type": "code",
      "source": [
        "colores[2:4]"
      ],
      "metadata": {
        "colab": {
          "base_uri": "https://localhost:8080/",
          "height": 147
        },
        "id": "8d7Y3YmLvm26",
        "outputId": "6263f10c-a417-4698-f5b7-5f2c678ce1cd"
      },
      "execution_count": 6,
      "outputs": [
        {
          "output_type": "execute_result",
          "data": {
            "text/plain": [
              "2     azul\n",
              "3    verde\n",
              "dtype: object"
            ],
            "text/html": [
              "<div>\n",
              "<style scoped>\n",
              "    .dataframe tbody tr th:only-of-type {\n",
              "        vertical-align: middle;\n",
              "    }\n",
              "\n",
              "    .dataframe tbody tr th {\n",
              "        vertical-align: top;\n",
              "    }\n",
              "\n",
              "    .dataframe thead th {\n",
              "        text-align: right;\n",
              "    }\n",
              "</style>\n",
              "<table border=\"1\" class=\"dataframe\">\n",
              "  <thead>\n",
              "    <tr style=\"text-align: right;\">\n",
              "      <th></th>\n",
              "      <th>0</th>\n",
              "    </tr>\n",
              "  </thead>\n",
              "  <tbody>\n",
              "    <tr>\n",
              "      <th>2</th>\n",
              "      <td>azul</td>\n",
              "    </tr>\n",
              "    <tr>\n",
              "      <th>3</th>\n",
              "      <td>verde</td>\n",
              "    </tr>\n",
              "  </tbody>\n",
              "</table>\n",
              "</div><br><label><b>dtype:</b> object</label>"
            ]
          },
          "metadata": {},
          "execution_count": 6
        }
      ]
    },
    {
      "cell_type": "code",
      "source": [
        "materias[[\"Física\",\"Química\"]]"
      ],
      "metadata": {
        "colab": {
          "base_uri": "https://localhost:8080/",
          "height": 147
        },
        "id": "j03Xe0_817U1",
        "outputId": "53bbc8dd-f9a2-481c-c36d-4fde58aa7867"
      },
      "execution_count": 7,
      "outputs": [
        {
          "output_type": "execute_result",
          "data": {
            "text/plain": [
              "Física     100\n",
              "Química     78\n",
              "dtype: int64"
            ],
            "text/html": [
              "<div>\n",
              "<style scoped>\n",
              "    .dataframe tbody tr th:only-of-type {\n",
              "        vertical-align: middle;\n",
              "    }\n",
              "\n",
              "    .dataframe tbody tr th {\n",
              "        vertical-align: top;\n",
              "    }\n",
              "\n",
              "    .dataframe thead th {\n",
              "        text-align: right;\n",
              "    }\n",
              "</style>\n",
              "<table border=\"1\" class=\"dataframe\">\n",
              "  <thead>\n",
              "    <tr style=\"text-align: right;\">\n",
              "      <th></th>\n",
              "      <th>0</th>\n",
              "    </tr>\n",
              "  </thead>\n",
              "  <tbody>\n",
              "    <tr>\n",
              "      <th>Física</th>\n",
              "      <td>100</td>\n",
              "    </tr>\n",
              "    <tr>\n",
              "      <th>Química</th>\n",
              "      <td>78</td>\n",
              "    </tr>\n",
              "  </tbody>\n",
              "</table>\n",
              "</div><br><label><b>dtype:</b> int64</label>"
            ]
          },
          "metadata": {},
          "execution_count": 7
        }
      ]
    },
    {
      "cell_type": "markdown",
      "source": [
        "### Operaciones"
      ],
      "metadata": {
        "id": "dMoPIXMU2vAp"
      }
    },
    {
      "cell_type": "code",
      "source": [
        "print(numeros*2)"
      ],
      "metadata": {
        "colab": {
          "base_uri": "https://localhost:8080/"
        },
        "id": "QPf-bywQ2xLh",
        "outputId": "8303e6d2-8ff3-40e7-8073-c6a90900ab24"
      },
      "execution_count": 9,
      "outputs": [
        {
          "output_type": "stream",
          "name": "stdout",
          "text": [
            "0     2\n",
            "1     4\n",
            "2     6\n",
            "3     8\n",
            "4    10\n",
            "5    12\n",
            "6    14\n",
            "7    16\n",
            "8    18\n",
            "dtype: int64\n"
          ]
        }
      ]
    },
    {
      "cell_type": "code",
      "source": [
        "suma = numeros.sum()\n",
        "print(suma)\n",
        "maximo = numeros.max()\n",
        "print(maximo)\n",
        "desv = numeros.std()\n",
        "print(desv)\n",
        "desc = numeros.describe()\n",
        "print(desc)"
      ],
      "metadata": {
        "colab": {
          "base_uri": "https://localhost:8080/"
        },
        "id": "pdlNMiko4TEV",
        "outputId": "d97002e6-1799-4f87-9b23-479085c805d6"
      },
      "execution_count": 13,
      "outputs": [
        {
          "output_type": "stream",
          "name": "stdout",
          "text": [
            "45\n",
            "9\n",
            "2.7386127875258306\n",
            "count    9.000000\n",
            "mean     5.000000\n",
            "std      2.738613\n",
            "min      1.000000\n",
            "25%      3.000000\n",
            "50%      5.000000\n",
            "75%      7.000000\n",
            "max      9.000000\n",
            "dtype: float64\n"
          ]
        }
      ]
    },
    {
      "cell_type": "code",
      "source": [
        "serie = pd.Series({\"Programación\":80,\"Economía\":60,\"Historia\":50,\"Álgebra\":100})\n",
        "print(serie[serie>60],\"\\n\")\n",
        "print(serie.sort_values(),\"\\n\")\n",
        "print(serie.sort_index(ascending = False),\"\\n\")"
      ],
      "metadata": {
        "colab": {
          "base_uri": "https://localhost:8080/"
        },
        "id": "jFkm2oe15idq",
        "outputId": "91b59f98-6da2-4453-e87f-8ae9e22bcc86"
      },
      "execution_count": 18,
      "outputs": [
        {
          "output_type": "stream",
          "name": "stdout",
          "text": [
            "Programación     80\n",
            "Álgebra         100\n",
            "dtype: int64 \n",
            "\n",
            "Historia         50\n",
            "Economía         60\n",
            "Programación     80\n",
            "Álgebra         100\n",
            "dtype: int64 \n",
            "\n",
            "Economía         60\n",
            "Historia         50\n",
            "Programación     80\n",
            "Álgebra         100\n",
            "dtype: int64 \n",
            "\n"
          ]
        }
      ]
    },
    {
      "cell_type": "code",
      "source": [
        "dato = 5\n",
        "s = pd.Series(dato, index=[0,1,2,3,4,5])\n",
        "print(s)\n",
        "# Serie con índice definido"
      ],
      "metadata": {
        "colab": {
          "base_uri": "https://localhost:8080/"
        },
        "id": "8jJ4glSz7cFL",
        "outputId": "20661ab9-2b8d-4733-bbff-4a5e10db69f9"
      },
      "execution_count": 19,
      "outputs": [
        {
          "output_type": "stream",
          "name": "stdout",
          "text": [
            "0    5\n",
            "1    5\n",
            "2    5\n",
            "3    5\n",
            "4    5\n",
            "5    5\n",
            "dtype: int64\n"
          ]
        }
      ]
    },
    {
      "cell_type": "code",
      "source": [
        "data_list = [\"Messi\", \"Ronaldo\", \"Benzema\", \"Chicharito\"]\n",
        "Equipos = [\"PSG\", \"Manchester\", \"RealMadrid\", \"Chivas\"]\n",
        "football = pd.Series(index=Equipos,data=data_list)\n",
        "print(football)"
      ],
      "metadata": {
        "colab": {
          "base_uri": "https://localhost:8080/"
        },
        "id": "G8v6i84a8MAX",
        "outputId": "d8d2504f-175c-4dba-f3db-d3b1777019ad"
      },
      "execution_count": 20,
      "outputs": [
        {
          "output_type": "stream",
          "name": "stdout",
          "text": [
            "PSG                Messi\n",
            "Manchester       Ronaldo\n",
            "RealMadrid       Benzema\n",
            "Chivas        Chicharito\n",
            "dtype: object\n"
          ]
        }
      ]
    },
    {
      "cell_type": "code",
      "source": [
        "data = {\"Nombre\":[\"Maria\",\"Jose\",\"David\",\"Ivan\"],\"Carrera\":[\"ITC\", \"IIS\", \"IMD\", \"LAF\"], \"Email\":[\"m@gmail.com\",\"j@gmail.com\",\"d@gmail.com\",\"i@gmail.com\"]}\n",
        "estudiantes = pd.DataFrame(data)\n",
        "print(estudiantes)"
      ],
      "metadata": {
        "colab": {
          "base_uri": "https://localhost:8080/"
        },
        "id": "cxw-36j-95Hw",
        "outputId": "2f0fbdcc-e9aa-4498-a1eb-8fb88b235127"
      },
      "execution_count": 22,
      "outputs": [
        {
          "output_type": "stream",
          "name": "stdout",
          "text": [
            "  Nombre Carrera        Email\n",
            "0  Maria     ITC  m@gmail.com\n",
            "1   Jose     IIS  j@gmail.com\n",
            "2  David     IMD  d@gmail.com\n",
            "3   Ivan     LAF  i@gmail.com\n"
          ]
        }
      ]
    },
    {
      "cell_type": "markdown",
      "source": [
        "### Fechas y tiempo"
      ],
      "metadata": {
        "id": "iB5C3oFd_j08"
      }
    },
    {
      "cell_type": "code",
      "source": [],
      "metadata": {
        "id": "SQCDBEyJ_oLJ"
      },
      "execution_count": null,
      "outputs": []
    }
  ]
}