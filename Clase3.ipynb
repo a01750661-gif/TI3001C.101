{
  "nbformat": 4,
  "nbformat_minor": 0,
  "metadata": {
    "colab": {
      "provenance": [],
      "authorship_tag": "ABX9TyM1jU4ikovm80dkyDoyXyuq",
      "include_colab_link": true
    },
    "kernelspec": {
      "name": "python3",
      "display_name": "Python 3"
    },
    "language_info": {
      "name": "python"
    }
  },
  "cells": [
    {
      "cell_type": "markdown",
      "metadata": {
        "id": "view-in-github",
        "colab_type": "text"
      },
      "source": [
        "<a href=\"https://colab.research.google.com/github/a01750661-gif/TI3001C.101/blob/Actividades/Clase3.ipynb\" target=\"_parent\"><img src=\"https://colab.research.google.com/assets/colab-badge.svg\" alt=\"Open In Colab\"/></a>"
      ]
    },
    {
      "cell_type": "markdown",
      "source": [
        "ESTRUCTURA DE DATOS EN PYTHON"
      ],
      "metadata": {
        "id": "fvjBdpinwgT4"
      }
    },
    {
      "cell_type": "code",
      "execution_count": 6,
      "metadata": {
        "colab": {
          "base_uri": "https://localhost:8080/"
        },
        "id": "3RueAuxMwehs",
        "outputId": "a1430e13-12a1-4bf6-a4f7-26bf539f9757"
      },
      "outputs": [
        {
          "output_type": "stream",
          "name": "stdout",
          "text": [
            "ANALÍTICA DE DATOS\n",
            "['Analítica', 'de', 'Datos']\n",
            "Analítica\n"
          ]
        }
      ],
      "source": [
        "frase = \"Analítica de Datos\"\n",
        "\n",
        "print(frase.upper())\n",
        "print(frase.split())\n",
        "print(frase[0:9])"
      ]
    },
    {
      "cell_type": "code",
      "source": [
        "numeros = [5,2,9]\n",
        "numeros.append(4)\n",
        "numeros.sort()\n",
        "print(numeros)"
      ],
      "metadata": {
        "colab": {
          "base_uri": "https://localhost:8080/"
        },
        "id": "JKbbnPrBBsU4",
        "outputId": "79b31787-2402-4119-dabd-1794a0f48156"
      },
      "execution_count": 7,
      "outputs": [
        {
          "output_type": "stream",
          "name": "stdout",
          "text": [
            "[2, 4, 5, 9]\n"
          ]
        }
      ]
    },
    {
      "cell_type": "code",
      "source": [
        "nombres = [\"Andres\", \"Lalo\", \"Ditto\", \"Liz\", \"Victor\"]\n",
        "nombres.sort()\n",
        "print(nombres)"
      ],
      "metadata": {
        "colab": {
          "base_uri": "https://localhost:8080/"
        },
        "id": "kgwN_vsIEpS5",
        "outputId": "3072afe9-992b-427b-b6cb-4b0154a0030b"
      },
      "execution_count": 10,
      "outputs": [
        {
          "output_type": "stream",
          "name": "stdout",
          "text": [
            "['Andres', 'Ditto', 'Lalo', 'Liz', 'Victor']\n"
          ]
        }
      ]
    },
    {
      "cell_type": "code",
      "source": [
        "coordenadas = (10.5, 20.3)\n",
        "x, y = coordenadas\n",
        "print(f\"x={x}, y={y}\")"
      ],
      "metadata": {
        "colab": {
          "base_uri": "https://localhost:8080/"
        },
        "id": "5Wh8Yg-7HUg4",
        "outputId": "294730b9-0407-44c0-95f4-49fafb92edf2"
      },
      "execution_count": 11,
      "outputs": [
        {
          "output_type": "stream",
          "name": "stdout",
          "text": [
            "x=10.5, y=20.3\n"
          ]
        }
      ]
    },
    {
      "cell_type": "code",
      "source": [
        "edades = {\"Ana\":25, \"Luis\":30}\n",
        "edades [\"Marta\"] = 28\n",
        "print(edades)"
      ],
      "metadata": {
        "colab": {
          "base_uri": "https://localhost:8080/"
        },
        "id": "oYU1PoqHevzI",
        "outputId": "9cd77516-eaaf-4c47-cf77-9f8639a652f7"
      },
      "execution_count": 5,
      "outputs": [
        {
          "output_type": "stream",
          "name": "stdout",
          "text": [
            "{'Ana': 25, 'Luis': 30, 'Marta': 28}\n"
          ]
        }
      ]
    },
    {
      "cell_type": "code",
      "source": [
        "#Con llaves\n",
        "numeros = {1, 2, 3}\n",
        "\n",
        "#Con función set()\n",
        "vocales = set([\"a\", \"e\", \"i\", \"o\", \"u\"])"
      ],
      "metadata": {
        "id": "6X--32xVfv7Q"
      },
      "execution_count": 6,
      "outputs": []
    }
  ]
}